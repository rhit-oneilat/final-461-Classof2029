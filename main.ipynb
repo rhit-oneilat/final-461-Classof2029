{
 "cells": [
  {
   "cell_type": "markdown",
   "metadata": {
    "id": "3RfvQU6FxWKn"
   },
   "source": [
    "# Generate optical flow from an image"
   ]
  },
  {
   "cell_type": "code",
   "execution_count": 2,
   "metadata": {
    "id": "BH1lwSzsxWKo",
    "outputId": "acae4ab2-bc46-4cb8-c1f3-66e7a5be2672"
   },
   "outputs": [
    {
     "name": "stderr",
     "output_type": "stream",
     "text": [
      "/home/valentwa/.conda/envs/generative/lib/python3.10/site-packages/tqdm/auto.py:21: TqdmWarning: IProgress not found. Please update jupyter and ipywidgets. See https://ipywidgets.readthedocs.io/en/stable/user_install.html\n",
      "  from .autonotebook import tqdm as notebook_tqdm\n",
      "Cannot initialize model with low cpu memory usage because `accelerate` was not found in the environment. Defaulting to `low_cpu_mem_usage=False`. It is strongly recommended to install `accelerate` for faster and less memory-intense model loading. You can do so with: \n",
      "```\n",
      "pip install accelerate\n",
      "```\n",
      ".\n",
      "Cannot initialize model with low cpu memory usage because `accelerate` was not found in the environment. Defaulting to `low_cpu_mem_usage=False`. It is strongly recommended to install `accelerate` for faster and less memory-intense model loading. You can do so with: \n",
      "```\n",
      "pip install accelerate\n",
      "```\n",
      ".\n"
     ]
    },
    {
     "name": "stdout",
     "output_type": "stream",
     "text": [
      "Quadro RTX 6000\n",
      "CUDA available: True\n",
      "Device name: Quadro RTX 6000\n",
      "Allocated: 1280.12 MB\n",
      "Reserved: 1312.0 MB\n"
     ]
    }
   ],
   "source": [
    "import os\n",
    "os.environ[\"CUDA_LAUNCH_BLOCKING\"] = \"1\"\n",
    "\n",
    "import datetime\n",
    "from diffusers import UNet2DModel, DDPMScheduler\n",
    "from models.motion_synthesis import VQModel_, generate_spectrum\n",
    "from utils import *\n",
    "\n",
    "if torch.cuda.is_available():\n",
    "    DEVICE = torch.device(\"cuda:0\")\n",
    "elif torch.backends.mps.is_available():\n",
    "    DEVICE = torch.device(\"mps\")\n",
    "else:\n",
    "    DEVICE = torch.device(\"cpu\")\n",
    "\n",
    "transforms = FrameSpectrumProcessing(num_freq=16)\n",
    "noise_scheduler = DDPMScheduler(num_train_timesteps=1000, beta_start=0.0015, beta_end=0.0195, beta_schedule=\"scaled_linear\")\n",
    "vae = VQModel_.from_pretrained(\"CompVis/ldm-celebahq-256\", subfolder=\"vqvae\").to(DEVICE).eval()\n",
    "unet = UNet2DModel.from_pretrained(\"data/models/unet\").to(DEVICE).eval()\n",
    "\n",
    "out_dir = \"data/unet_samples\"\n",
    "if not os.path.exists(out_dir):\n",
    "    os.makedirs(out_dir)\n",
    "\n",
    "print(torch.cuda.get_device_name(0))\n",
    "print(\"CUDA available:\", torch.cuda.is_available())\n",
    "print(\"Device name:\", torch.cuda.get_device_name(0) if torch.cuda.is_available() else \"N/A\")\n",
    "print(\"Allocated:\", round(torch.cuda.memory_allocated(0)/1024**2, 2), \"MB\")\n",
    "print(\"Reserved:\", round(torch.cuda.memory_reserved(0)/1024**2, 2), \"MB\")"
   ]
  },
  {
   "cell_type": "markdown",
   "metadata": {
    "id": "U3udXeXNxWKq"
   },
   "source": [
    "# Web server on port 5000"
   ]
  },
  {
   "cell_type": "code",
   "execution_count": 9,
   "metadata": {},
   "outputs": [
    {
     "name": "stdout",
     "output_type": "stream",
     "text": [
      " * Serving Flask app '__main__'\n",
      " * Debug mode: off\n"
     ]
    },
    {
     "name": "stderr",
     "output_type": "stream",
     "text": [
      "WARNING: This is a development server. Do not use it in a production deployment. Use a production WSGI server instead.\n",
      " * Running on all addresses (0.0.0.0)\n",
      " * Running on http://127.0.0.1:5001\n",
      " * Running on http://137.112.104.31:5001\n",
      "Press CTRL+C to quit\n",
      "137.112.211.153 - - [23/May/2025 15:34:49] \"GET / HTTP/1.1\" 200 -\n",
      "100%|██████████| 16/16 [01:14<00:00,  4.65s/it]\n",
      "137.112.211.153 - - [23/May/2025 15:36:40] \"POST / HTTP/1.1\" 302 -\n",
      "137.112.211.153 - - [23/May/2025 15:36:40] \"GET /?image=static/results/Domestic_Goose_ddpm100_2025-05-23T15_35_22.062839.png&video=static/results/Domestic_Goose_ddpm100_2025-05-23T15_35_22.062839.mp4 HTTP/1.1\" 200 -\n",
      "137.112.211.153 - - [23/May/2025 15:36:40] \"GET /static/results/Domestic_Goose_ddpm100_2025-05-23T15_35_22.062839.png HTTP/1.1\" 200 -\n",
      "137.112.211.153 - - [23/May/2025 15:36:40] \"GET /static/results/Domestic_Goose_ddpm100_2025-05-23T15_35_22.062839.mp4 HTTP/1.1\" 206 -\n"
     ]
    }
   ],
   "source": [
    "import os\n",
    "import datetime\n",
    "import numpy as np\n",
    "from flask import Flask, request, render_template, send_from_directory, redirect, url_for\n",
    "from werkzeug.utils import secure_filename\n",
    "\n",
    "app = Flask(__name__)\n",
    "UPLOAD_FOLDER = 'static/uploads'\n",
    "OUT_FOLDER = 'static/results'\n",
    "os.makedirs(UPLOAD_FOLDER, exist_ok=True)\n",
    "os.makedirs(OUT_FOLDER, exist_ok=True)\n",
    "\n",
    "app.config['UPLOAD_FOLDER'] = UPLOAD_FOLDER\n",
    "\n",
    "@app.route('/', methods=['GET', 'POST'])\n",
    "def index():\n",
    "    if request.method == 'POST':\n",
    "        file = request.files['image']\n",
    "        filename = secure_filename(file.filename)\n",
    "        path = os.path.join(app.config['UPLOAD_FOLDER'], filename)\n",
    "        file.save(path)\n",
    "\n",
    "        frame_np = get_image(path, width=256, height=160, crop=True)\n",
    "        frame = transforms.process_frame(frame_np).unsqueeze(0).to(DEVICE)\n",
    "\n",
    "        num_steps = 100\n",
    "        sample_name = \"_\".join([\n",
    "            os.path.splitext(filename)[0],\n",
    "            \"ddpm\" + str(num_steps),\n",
    "            datetime.datetime.now().isoformat().replace(\":\", \"_\")\n",
    "        ])\n",
    "\n",
    "        spec_np = generate_spectrum(vae, unet, noise_scheduler, frame, num_steps=num_steps, batch_size=1)\n",
    "\n",
    "        npy_path = os.path.join(OUT_FOLDER, sample_name + \".npy\")\n",
    "        save_npy(spec_np, npy_path)\n",
    "\n",
    "        # Prepare frame_np for visualization\n",
    "        if isinstance(frame_np, torch.Tensor):\n",
    "            frame_np = frame_np.detach().cpu().numpy()\n",
    "        if frame_np.ndim == 3 and frame_np.shape[0] == 3:\n",
    "            frame_np = np.transpose(frame_np, (1, 2, 0))\n",
    "        if frame_np.ndim == 2:\n",
    "            frame_np = np.stack([frame_np] * 3, axis=-1)\n",
    "        if frame_np.dtype != np.uint8:\n",
    "            frame_np = (frame_np * 255).astype(np.uint8) if frame_np.max() <= 1.0 else frame_np.astype(np.uint8)\n",
    "\n",
    "        spec_image, video = visualize_sample(frame_np, spec_np, transforms, magnification=5.0, include_flow=True)\n",
    "\n",
    "        image_path = os.path.join(OUT_FOLDER, sample_name + \".png\")\n",
    "        video_path = os.path.join(OUT_FOLDER, sample_name + \".mp4\")\n",
    "\n",
    "        spec_image.save(image_path)\n",
    "        video.write_videofile(video_path, logger=None)\n",
    "\n",
    "        return redirect(url_for('index', image=image_path, video=video_path))\n",
    "\n",
    "    # GET request — fetch image/video from query params if available\n",
    "    image_file = request.args.get('image')\n",
    "    video_file = request.args.get('video')\n",
    "\n",
    "    return render_template(\"index.html\", image_file=image_file, video_file=video_file)\n",
    "\n",
    "if __name__ == '__main__':\n",
    "    app.run(host='0.0.0.0', port=5001)\n"
   ]
  }
 ],
 "metadata": {
  "accelerator": "GPU",
  "colab": {
   "gpuType": "T4",
   "provenance": []
  },
  "kernelspec": {
   "display_name": "generative",
   "language": "python",
   "name": "python3"
  },
  "language_info": {
   "codemirror_mode": {
    "name": "ipython",
    "version": 3
   },
   "file_extension": ".py",
   "mimetype": "text/x-python",
   "name": "python",
   "nbconvert_exporter": "python",
   "pygments_lexer": "ipython3",
   "version": "3.10.12"
  }
 },
 "nbformat": 4,
 "nbformat_minor": 1
}
