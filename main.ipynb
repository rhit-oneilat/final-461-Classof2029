{
 "cells": [
  {
   "cell_type": "markdown",
   "metadata": {
    "id": "3RfvQU6FxWKn"
   },
   "source": [
    "# Generate optical flow from an image"
   ]
  },
  {
   "cell_type": "code",
   "execution_count": 1,
   "metadata": {
    "id": "BH1lwSzsxWKo",
    "outputId": "acae4ab2-bc46-4cb8-c1f3-66e7a5be2672"
   },
   "outputs": [
    {
     "name": "stderr",
     "output_type": "stream",
     "text": [
      "/home/valentwa/.conda/envs/gen2/lib/python3.10/site-packages/tqdm/auto.py:21: TqdmWarning: IProgress not found. Please update jupyter and ipywidgets. See https://ipywidgets.readthedocs.io/en/stable/user_install.html\n",
      "  from .autonotebook import tqdm as notebook_tqdm\n",
      "Cannot initialize model with low cpu memory usage because `accelerate` was not found in the environment. Defaulting to `low_cpu_mem_usage=False`. It is strongly recommended to install `accelerate` for faster and less memory-intense model loading. You can do so with: \n",
      "```\n",
      "pip install accelerate\n",
      "```\n",
      ".\n",
      "Cannot initialize model with low cpu memory usage because `accelerate` was not found in the environment. Defaulting to `low_cpu_mem_usage=False`. It is strongly recommended to install `accelerate` for faster and less memory-intense model loading. You can do so with: \n",
      "```\n",
      "pip install accelerate\n",
      "```\n",
      ".\n"
     ]
    }
   ],
   "source": [
    "# Force CUDA operations to be synchronous for easier debugging\n",
    "import os\n",
    "os.environ[\"CUDA_LAUNCH_BLOCKING\"] = \"1\"\n",
    "\n",
    "# Import necessary libraries and modules\n",
    "import datetime\n",
    "from diffusers import UNet2DModel, DDPMScheduler  # Hugging Face diffusion models\n",
    "from models.motion_synthesis import VQModel_, generate_spectrum  # Custom VQ model and motion synthesis logic\n",
    "from utils import *\n",
    "\n",
    "# Set device based on available hardware (CUDA given priority)\n",
    "if torch.cuda.is_available():\n",
    "    DEVICE = torch.device(\"cuda:0\")\n",
    "elif torch.backends.mps.is_available():\n",
    "    DEVICE = torch.device(\"mps\")\n",
    "else:\n",
    "    DEVICE = torch.device(\"cpu\")\n",
    "\n",
    "# Initialize preprocessing transformation: spectrum with 16 frequency bins\n",
    "transforms = FrameSpectrumProcessing(num_freq=16)\n",
    "\n",
    "noise_scheduler = DDPMScheduler(\n",
    "    num_train_timesteps=1000, \n",
    "    beta_start=0.0015, \n",
    "    beta_end=0.0195, \n",
    "    beta_schedule=\"scaled_linear\"\n",
    ")\n",
    "\n",
    "vae = VQModel_.from_pretrained(\n",
    "    \"CompVis/ldm-celebahq-256\", \n",
    "    subfolder=\"vqvae\"\n",
    ").to(DEVICE).eval()\n",
    "\n",
    "unet = UNet2DModel.from_pretrained(\"data/models/unet\").to(DEVICE).eval()\n",
    "\n",
    "# Create an output directory if it doesn't exist\n",
    "out_dir = \"data/unet_samples\"\n",
    "if not os.path.exists(out_dir):\n",
    "    os.makedirs(out_dir)"
   ]
  },
  {
   "cell_type": "markdown",
   "metadata": {
    "id": "U3udXeXNxWKq"
   },
   "source": [
    "# Web server on port 5001"
   ]
  },
  {
   "cell_type": "code",
   "execution_count": null,
   "metadata": {},
   "outputs": [
    {
     "name": "stdout",
     "output_type": "stream",
     "text": [
      " * Serving Flask app '__main__'\n",
      " * Debug mode: off\n"
     ]
    },
    {
     "name": "stderr",
     "output_type": "stream",
     "text": [
      "WARNING: This is a development server. Do not use it in a production deployment. Use a production WSGI server instead.\n",
      " * Running on all addresses (0.0.0.0)\n",
      " * Running on http://127.0.0.1:5001\n",
      " * Running on http://137.112.104.31:5001\n",
      "Press CTRL+C to quit\n",
      "137.112.211.153 - - [23/May/2025 22:06:41] \"GET / HTTP/1.1\" 200 -\n",
      "137.112.211.153 - - [23/May/2025 22:06:41] \"GET /favicon.ico HTTP/1.1\" 404 -\n",
      "100%|██████████| 16/16 [01:22<00:00,  5.14s/it]\n",
      "137.112.211.153 - - [23/May/2025 22:08:15] \"POST / HTTP/1.1\" 302 -\n",
      "137.112.211.153 - - [23/May/2025 22:08:15] \"GET /?image=static/results/Octopus_Vulgaris_ddpm100_2025-05-23T22_06_47.736417.png&video=static/results/Octopus_Vulgaris_ddpm100_2025-05-23T22_06_47.736417.mp4 HTTP/1.1\" 200 -\n",
      "137.112.211.153 - - [23/May/2025 22:08:15] \"GET /static/results/Octopus_Vulgaris_ddpm100_2025-05-23T22_06_47.736417.png HTTP/1.1\" 200 -\n",
      "137.112.211.153 - - [23/May/2025 22:08:15] \"GET /static/results/Octopus_Vulgaris_ddpm100_2025-05-23T22_06_47.736417.mp4 HTTP/1.1\" 206 -\n",
      "137.112.211.153 - - [23/May/2025 22:08:15] \"GET /static/results/Octopus_Vulgaris_ddpm100_2025-05-23T22_06_47.736417.mp4 HTTP/1.1\" 206 -\n",
      "137.112.211.153 - - [23/May/2025 22:08:15] \"GET /static/results/Octopus_Vulgaris_ddpm100_2025-05-23T22_06_47.736417.mp4 HTTP/1.1\" 206 -\n",
      "137.112.211.153 - - [23/May/2025 22:08:15] \"GET /static/results/Octopus_Vulgaris_ddpm100_2025-05-23T22_06_47.736417.mp4 HTTP/1.1\" 206 -\n",
      "137.112.211.153 - - [23/May/2025 22:08:18] \"GET /static/results/Octopus_Vulgaris_ddpm100_2025-05-23T22_06_47.736417.mp4 HTTP/1.1\" 206 -\n",
      "137.112.211.153 - - [23/May/2025 22:08:20] \"GET /static/results/Octopus_Vulgaris_ddpm100_2025-05-23T22_06_47.736417.mp4 HTTP/1.1\" 206 -\n",
      "137.112.211.153 - - [23/May/2025 22:08:20] \"GET /static/results/Octopus_Vulgaris_ddpm100_2025-05-23T22_06_47.736417.mp4 HTTP/1.1\" 206 -\n"
     ]
    }
   ],
   "source": [
    "import os\n",
    "import datetime\n",
    "import numpy as np\n",
    "from flask import Flask, request, render_template, send_from_directory, redirect, url_for\n",
    "from werkzeug.utils import secure_filename\n",
    "\n",
    "# Initialize Flask application\n",
    "app = Flask(__name__)\n",
    "\n",
    "# Define folders for uploads and results\n",
    "UPLOAD_FOLDER = 'static/uploads'\n",
    "OUT_FOLDER = 'static/results'\n",
    "os.makedirs(UPLOAD_FOLDER, exist_ok=True)\n",
    "os.makedirs(OUT_FOLDER, exist_ok=True)\n",
    "\n",
    "# Register upload folder in Flask\n",
    "app.config['UPLOAD_FOLDER'] = UPLOAD_FOLDER\n",
    "\n",
    "@app.route('/', methods=['GET', 'POST'])\n",
    "def index():\n",
    "    # Handle form submission with uploaded image\n",
    "    if request.method == 'POST':\n",
    "        file = request.files['image']  # Get uploaded file\n",
    "        filename = secure_filename(file.filename)  # Sanitize filename\n",
    "        path = os.path.join(app.config['UPLOAD_FOLDER'], filename)  # Build file path\n",
    "        file.save(path)  # Save file to upload directory\n",
    "\n",
    "        # Load and preprocess the image\n",
    "        frame_np = get_image(path, width=256, height=160, crop=True)\n",
    "        frame = transforms.process_frame(frame_np).unsqueeze(0).to(DEVICE)\n",
    "\n",
    "        # Set diffusion parameters and generate a unique name for the sample\n",
    "        num_steps = 100\n",
    "        sample_name = \"_\".join([\n",
    "            os.path.splitext(filename)[0],\n",
    "            \"ddpm\" + str(num_steps),\n",
    "            datetime.datetime.now().isoformat().replace(\":\", \"_\")\n",
    "        ])\n",
    "\n",
    "        # Generate motion spectrum\n",
    "        spec_np = generate_spectrum(\n",
    "            vae, unet, noise_scheduler, frame, \n",
    "            num_steps=num_steps, batch_size=1\n",
    "        )\n",
    "\n",
    "        # Save raw spectrum data\n",
    "        npy_path = os.path.join(OUT_FOLDER, sample_name + \".npy\")\n",
    "        save_npy(spec_np, npy_path)\n",
    "\n",
    "        # Ensure image data is in correct format to visualize\n",
    "        if isinstance(frame_np, torch.Tensor):\n",
    "            frame_np = frame_np.detach().cpu().numpy()\n",
    "        if frame_np.ndim == 3 and frame_np.shape[0] == 3:  # Convert CHW to HWC\n",
    "            frame_np = np.transpose(frame_np, (1, 2, 0))\n",
    "        if frame_np.ndim == 2:  # Convert grayscale to RGB\n",
    "            frame_np = np.stack([frame_np] * 3, axis=-1)\n",
    "        if frame_np.dtype != np.uint8:\n",
    "            frame_np = (frame_np * 255).astype(np.uint8) if frame_np.max() <= 1.0 else frame_np.astype(np.uint8)\n",
    "\n",
    "        # Create visualizations\n",
    "        spec_image, video = visualize_sample(\n",
    "            frame_np, spec_np, transforms, \n",
    "            magnification=5.0, include_flow=True\n",
    "        )\n",
    "\n",
    "        # Save image and video to the results folder\n",
    "        image_path = os.path.join(OUT_FOLDER, sample_name + \".png\")\n",
    "        video_path = os.path.join(OUT_FOLDER, sample_name + \".mp4\")\n",
    "\n",
    "        spec_image.save(image_path)\n",
    "        video.write_videofile(video_path, logger=None)\n",
    "\n",
    "        # Handle POST request: Redirect with output file paths as URL parameters\n",
    "        return redirect(url_for('index', image=image_path, video=video_path))\n",
    "\n",
    "    # Handle GET request: load image and video paths from query parameters if available\n",
    "    image_file = request.args.get('image')\n",
    "    video_file = request.args.get('video')\n",
    "\n",
    "    # Render the homepage with image and video urls if they currently exist\n",
    "    return render_template(\"index.html\", image_file=image_file, video_file=video_file)\n",
    "\n",
    "# Start the Flask server\n",
    "if __name__ == '__main__':\n",
    "    app.run(host='0.0.0.0', port=5001)  # Runs a web server on port 5001\n"
   ]
  }
 ],
 "metadata": {
  "accelerator": "GPU",
  "colab": {
   "gpuType": "T4",
   "provenance": []
  },
  "kernelspec": {
   "display_name": "gen2",
   "language": "python",
   "name": "python3"
  },
  "language_info": {
   "codemirror_mode": {
    "name": "ipython",
    "version": 3
   },
   "file_extension": ".py",
   "mimetype": "text/x-python",
   "name": "python",
   "nbconvert_exporter": "python",
   "pygments_lexer": "ipython3",
   "version": "3.10.12"
  }
 },
 "nbformat": 4,
 "nbformat_minor": 1
}
