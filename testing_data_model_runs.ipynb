{
 "cells": [
  {
   "cell_type": "code",
   "execution_count": null,
   "id": "3375103a",
   "metadata": {},
   "outputs": [
    {
     "name": "stderr",
     "output_type": "stream",
     "text": [
      "/home/valentwa/.conda/envs/generative/lib/python3.10/site-packages/tqdm/auto.py:21: TqdmWarning: IProgress not found. Please update jupyter and ipywidgets. See https://ipywidgets.readthedocs.io/en/stable/user_install.html\n",
      "  from .autonotebook import tqdm as notebook_tqdm\n",
      "Cannot initialize model with low cpu memory usage because `accelerate` was not found in the environment. Defaulting to `low_cpu_mem_usage=False`. It is strongly recommended to install `accelerate` for faster and less memory-intense model loading. You can do so with: \n",
      "```\n",
      "pip install accelerate\n",
      "```\n",
      ".\n",
      "Cannot initialize model with low cpu memory usage because `accelerate` was not found in the environment. Defaulting to `low_cpu_mem_usage=False`. It is strongly recommended to install `accelerate` for faster and less memory-intense model loading. You can do so with: \n",
      "```\n",
      "pip install accelerate\n",
      "```\n",
      ".\n"
     ]
    },
    {
     "name": "stdout",
     "output_type": "stream",
     "text": [
      "Quadro RTX 6000\n",
      "CUDA available: True\n",
      "Device name: Quadro RTX 6000\n",
      "Allocated: 1280.12 MB\n",
      "Reserved: 1312.0 MB\n"
     ]
    }
   ],
   "source": [
    "# Force CUDA operations to be synchronous for easier debugging\n",
    "import os\n",
    "os.environ[\"CUDA_LAUNCH_BLOCKING\"] = \"1\"\n",
    "\n",
    "# Import necessary libraries and modules\n",
    "import datetime\n",
    "from diffusers import UNet2DModel, DDPMScheduler  # Hugging Face diffusion models\n",
    "from models.motion_synthesis import VQModel_, generate_spectrum  # Custom VQ model and motion synthesis logic\n",
    "from utils import *\n",
    "\n",
    "# Set device based on available hardware (CUDA given priority)\n",
    "if torch.cuda.is_available():\n",
    "    DEVICE = torch.device(\"cuda:0\")\n",
    "elif torch.backends.mps.is_available():\n",
    "    DEVICE = torch.device(\"mps\")\n",
    "else:\n",
    "    DEVICE = torch.device(\"cpu\")\n",
    "\n",
    "# Initialize preprocessing transformation: spectrum with 16 frequency bins\n",
    "transforms = FrameSpectrumProcessing(num_freq=16)\n",
    "\n",
    "noise_scheduler = DDPMScheduler(\n",
    "    num_train_timesteps=1000, \n",
    "    beta_start=0.0015, \n",
    "    beta_end=0.0195, \n",
    "    beta_schedule=\"scaled_linear\"\n",
    ")\n",
    "\n",
    "vae = VQModel_.from_pretrained(\n",
    "    \"CompVis/ldm-celebahq-256\", \n",
    "    subfolder=\"vqvae\"\n",
    ").to(DEVICE).eval()\n",
    "\n",
    "unet = UNet2DModel.from_pretrained(\"data/models/unet\").to(DEVICE).eval()\n",
    "\n",
    "# Create an output directory if it doesn't exist\n",
    "out_dir = \"data/unet_samples\"\n",
    "if not os.path.exists(out_dir):\n",
    "    os.makedirs(out_dir)"
   ]
  },
  {
   "cell_type": "code",
   "execution_count": null,
   "id": "b17b19a6",
   "metadata": {},
   "outputs": [
    {
     "name": "stderr",
     "output_type": "stream",
     "text": [
      "100%|██████████| 16/16 [01:15<00:00,  4.70s/it]\n"
     ]
    },
    {
     "name": "stdout",
     "output_type": "stream",
     "text": [
      "sample saved at testing_data/output/wild_dog.jpg_ddpm100_2025-05-23T20_30_57.449353.npy\n",
      "spectrum image saved at testing_data/output/wild_dog.jpg_ddpm100_2025-05-23T20_30_57.449353.png\n",
      "video saved at testing_data/output/wild_dog.jpg_ddpm100_2025-05-23T20_30_57.449353.mp4\n"
     ]
    }
   ],
   "source": [
    "# Load an image and resize to 256x160 (resolution recommended by authors)\n",
    "image_path = \"testing_data/input/wild_dog.jpg\"\n",
    "frame_np = get_image(image_path, width=256, height=160, crop=True)\n",
    "\n",
    "# Process the image into a format suitable for the model and move it to the selected device\n",
    "frame = transforms.process_frame(frame_np).unsqueeze(0).to(DEVICE)\n",
    "\n",
    "# Define the number of denoising steps for the DDPM generation\n",
    "num_steps = 100\n",
    "\n",
    "# Create a unique sample name\n",
    "sample_name = \"_\".join([\n",
    "    os.path.split(image_path)[1],\n",
    "    \"ddpm\" + str(num_steps),\n",
    "    datetime.datetime.now().isoformat().replace(\":\", \"_\")\n",
    "])\n",
    "\n",
    "# Generate a motion spectrum\n",
    "spec_np = generate_spectrum(\n",
    "    vae, unet, noise_scheduler, frame, \n",
    "    num_steps=num_steps, batch_size=1\n",
    ")\n",
    "\n",
    "# Save the generated spectrum\n",
    "path = os.path.join(out_dir, sample_name + \".npy\")\n",
    "save_npy(spec_np, path)\n",
    "print(f\"sample saved at {path}\")\n",
    "\n",
    "# Create an image and video from the result\n",
    "spec_image, video = visualize_sample(\n",
    "    frame_np, spec_np, transforms, \n",
    "    magnification=5.0, include_flow=True\n",
    ")\n",
    "\n",
    "path = os.path.join(out_dir, sample_name + \".png\")\n",
    "spec_image.save(path)\n",
    "print(f\"spectrum image saved at {path}\")\n",
    "\n",
    "path = os.path.join(out_dir, sample_name + \".mp4\")\n",
    "video.write_videofile(path, logger=None)\n",
    "print(f\"video saved at {path}\")"
   ]
  }
 ],
 "metadata": {
  "kernelspec": {
   "display_name": "generative",
   "language": "python",
   "name": "python3"
  },
  "language_info": {
   "codemirror_mode": {
    "name": "ipython",
    "version": 3
   },
   "file_extension": ".py",
   "mimetype": "text/x-python",
   "name": "python",
   "nbconvert_exporter": "python",
   "pygments_lexer": "ipython3",
   "version": "3.10.12"
  }
 },
 "nbformat": 4,
 "nbformat_minor": 5
}
