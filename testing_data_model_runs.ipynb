{
 "cells": [
  {
   "cell_type": "code",
   "execution_count": 1,
   "id": "3375103a",
   "metadata": {},
   "outputs": [
    {
     "name": "stderr",
     "output_type": "stream",
     "text": [
      "/home/valentwa/.conda/envs/generative/lib/python3.10/site-packages/tqdm/auto.py:21: TqdmWarning: IProgress not found. Please update jupyter and ipywidgets. See https://ipywidgets.readthedocs.io/en/stable/user_install.html\n",
      "  from .autonotebook import tqdm as notebook_tqdm\n",
      "Cannot initialize model with low cpu memory usage because `accelerate` was not found in the environment. Defaulting to `low_cpu_mem_usage=False`. It is strongly recommended to install `accelerate` for faster and less memory-intense model loading. You can do so with: \n",
      "```\n",
      "pip install accelerate\n",
      "```\n",
      ".\n",
      "Cannot initialize model with low cpu memory usage because `accelerate` was not found in the environment. Defaulting to `low_cpu_mem_usage=False`. It is strongly recommended to install `accelerate` for faster and less memory-intense model loading. You can do so with: \n",
      "```\n",
      "pip install accelerate\n",
      "```\n",
      ".\n"
     ]
    },
    {
     "name": "stdout",
     "output_type": "stream",
     "text": [
      "Quadro RTX 6000\n",
      "CUDA available: True\n",
      "Device name: Quadro RTX 6000\n",
      "Allocated: 1280.12 MB\n",
      "Reserved: 1312.0 MB\n"
     ]
    }
   ],
   "source": [
    "import os\n",
    "os.environ[\"CUDA_LAUNCH_BLOCKING\"] = \"1\"\n",
    "\n",
    "import datetime\n",
    "from diffusers import UNet2DModel, DDPMScheduler\n",
    "from models.motion_synthesis import VQModel_, generate_spectrum\n",
    "from utils import *\n",
    "\n",
    "if torch.cuda.is_available():\n",
    "    DEVICE = torch.device(\"cuda:0\")\n",
    "elif torch.backends.mps.is_available():\n",
    "    DEVICE = torch.device(\"mps\")\n",
    "else:\n",
    "    DEVICE = torch.device(\"cpu\")\n",
    "\n",
    "transforms = FrameSpectrumProcessing(num_freq=16)\n",
    "noise_scheduler = DDPMScheduler(num_train_timesteps=1000, beta_start=0.0015, beta_end=0.0195, beta_schedule=\"scaled_linear\")\n",
    "vae = VQModel_.from_pretrained(\"CompVis/ldm-celebahq-256\", subfolder=\"vqvae\").to(DEVICE).eval()\n",
    "unet = UNet2DModel.from_pretrained(\"data/models/unet\").to(DEVICE).eval()\n",
    "\n",
    "out_dir = \"testing_data/output\"\n",
    "if not os.path.exists(out_dir):\n",
    "    os.makedirs(out_dir)\n",
    "\n",
    "print(torch.cuda.get_device_name(0))\n",
    "print(\"CUDA available:\", torch.cuda.is_available())\n",
    "print(\"Device name:\", torch.cuda.get_device_name(0) if torch.cuda.is_available() else \"N/A\")\n",
    "print(\"Allocated:\", round(torch.cuda.memory_allocated(0)/1024**2, 2), \"MB\")\n",
    "print(\"Reserved:\", round(torch.cuda.memory_reserved(0)/1024**2, 2), \"MB\")"
   ]
  },
  {
   "cell_type": "code",
   "execution_count": 3,
   "id": "b17b19a6",
   "metadata": {},
   "outputs": [
    {
     "name": "stderr",
     "output_type": "stream",
     "text": [
      "100%|██████████| 16/16 [01:15<00:00,  4.70s/it]\n"
     ]
    },
    {
     "name": "stdout",
     "output_type": "stream",
     "text": [
      "sample saved at testing_data/output/wild_dog.jpg_ddpm100_2025-05-23T20_30_57.449353.npy\n",
      "spectrum image saved at testing_data/output/wild_dog.jpg_ddpm100_2025-05-23T20_30_57.449353.png\n",
      "video saved at testing_data/output/wild_dog.jpg_ddpm100_2025-05-23T20_30_57.449353.mp4\n"
     ]
    }
   ],
   "source": [
    "# Load an image\n",
    "image_path = \"testing_data/input/wild_dog.jpg\"\n",
    "frame_np = get_image(image_path, width=256, height=160, crop=True)\n",
    "frame = transforms.process_frame(frame_np).unsqueeze(0).to(DEVICE)\n",
    "\n",
    "# Generate motion spectrum\n",
    "num_steps = 100\n",
    "\n",
    "sample_name = \"_\".join([\n",
    "    os.path.split(image_path)[1],\n",
    "    \"ddpm\" + str(num_steps),\n",
    "    datetime.datetime.now().isoformat().replace(\":\", \"_\")\n",
    "])\n",
    "\n",
    "spec_np = generate_spectrum(vae, unet, noise_scheduler, frame, num_steps=num_steps, batch_size=1)\n",
    "\n",
    "path = os.path.join(out_dir, sample_name + \".npy\")\n",
    "save_npy(spec_np, path)\n",
    "print(f\"sample saved at {path}\")\n",
    "\n",
    "# Visualize the result\n",
    "spec_image, video = visualize_sample(frame_np, spec_np, transforms, magnification=5.0, include_flow=True)\n",
    "\n",
    "path = os.path.join(out_dir, sample_name + \".png\")\n",
    "spec_image.save(path)\n",
    "print(f\"spectrum image saved at {path}\")\n",
    "\n",
    "path = os.path.join(out_dir, sample_name + \".mp4\")\n",
    "video.write_videofile(path, logger=None)\n",
    "print(f\"video saved at {path}\")"
   ]
  }
 ],
 "metadata": {
  "kernelspec": {
   "display_name": "generative",
   "language": "python",
   "name": "python3"
  },
  "language_info": {
   "codemirror_mode": {
    "name": "ipython",
    "version": 3
   },
   "file_extension": ".py",
   "mimetype": "text/x-python",
   "name": "python",
   "nbconvert_exporter": "python",
   "pygments_lexer": "ipython3",
   "version": "3.10.12"
  }
 },
 "nbformat": 4,
 "nbformat_minor": 5
}
